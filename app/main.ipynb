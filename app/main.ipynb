{
 "cells": [
  {
   "cell_type": "code",
   "execution_count": 1,
   "metadata": {},
   "outputs": [],
   "source": [
    "from modules.configuration import read_config, AppConfig"
   ]
  },
  {
   "cell_type": "code",
   "execution_count": 2,
   "metadata": {},
   "outputs": [],
   "source": [
    "app_config = read_config()"
   ]
  },
  {
   "cell_type": "code",
   "execution_count": 3,
   "metadata": {},
   "outputs": [
    {
     "data": {
      "text/plain": [
       "SolverConfig(max_iterations=500, target_residual=1e-05)"
      ]
     },
     "execution_count": 3,
     "metadata": {},
     "output_type": "execute_result"
    }
   ],
   "source": [
    "app_config.solver"
   ]
  },
  {
   "cell_type": "code",
   "execution_count": 4,
   "metadata": {},
   "outputs": [
    {
     "data": {
      "text/plain": [
       "DomainConfig(real_width=1.0, real_height=1.0, grid_points_x=41, grid_points_y=41, boundary_conditions=BoundaryConditionConfig(velocity_top=VectorialBoundaryCondition(type=<BoundaryConditionType.DIRICHLET: 'dirichlet'>, x_direction=1.0, y_direction=0.0), velocity_right=VectorialBoundaryCondition(type=<BoundaryConditionType.DIRICHLET: 'dirichlet'>, x_direction=0.0, y_direction=0.0), velocity_bottom=VectorialBoundaryCondition(type=<BoundaryConditionType.DIRICHLET: 'dirichlet'>, x_direction=0.0, y_direction=0.0), velocity_left=VectorialBoundaryCondition(type=<BoundaryConditionType.DIRICHLET: 'dirichlet'>, x_direction=0.0, y_direction=0.0), pressure_top=ScalarBoundaryCondition(type=<BoundaryConditionType.DIRICHLET: 'dirichlet'>, value=0.0), pressure_right=ScalarBoundaryCondition(type=<BoundaryConditionType.NEUMANN: 'neumann'>, value=0.0), pressure_bottom=ScalarBoundaryCondition(type=<BoundaryConditionType.NEUMANN: 'neumann'>, value=0.0), pressure_left=ScalarBoundaryCondition(type=<BoundaryConditionType.NEUMANN: 'neumann'>, value=0.0)))"
      ]
     },
     "execution_count": 4,
     "metadata": {},
     "output_type": "execute_result"
    }
   ],
   "source": [
    "app_config.domain"
   ]
  },
  {
   "cell_type": "code",
   "execution_count": 5,
   "metadata": {},
   "outputs": [
    {
     "data": {
      "text/plain": [
       "VectorialBoundaryCondition(type=<BoundaryConditionType.DIRICHLET: 'dirichlet'>, x_direction=1.0, y_direction=0.0)"
      ]
     },
     "execution_count": 5,
     "metadata": {},
     "output_type": "execute_result"
    }
   ],
   "source": [
    "app_config.domain.boundary_conditions.velocity_top"
   ]
  },
  {
   "cell_type": "code",
   "execution_count": 7,
   "metadata": {},
   "outputs": [
    {
     "data": {
      "text/plain": [
       "ScalarBoundaryCondition(type=<BoundaryConditionType.DIRICHLET: 'dirichlet'>, value=0.0)"
      ]
     },
     "execution_count": 7,
     "metadata": {},
     "output_type": "execute_result"
    }
   ],
   "source": [
    "app_config.domain.boundary_conditions.pressure_top"
   ]
  },
  {
   "cell_type": "code",
   "execution_count": 6,
   "metadata": {},
   "outputs": [
    {
     "data": {
      "text/plain": [
       "FluidConfig(density=1.0, kinematic_viscosity=0.01)"
      ]
     },
     "execution_count": 6,
     "metadata": {},
     "output_type": "execute_result"
    }
   ],
   "source": [
    "app_config.fluid"
   ]
  }
 ],
 "metadata": {
  "kernelspec": {
   "display_name": ".venv",
   "language": "python",
   "name": "python3"
  },
  "language_info": {
   "codemirror_mode": {
    "name": "ipython",
    "version": 3
   },
   "file_extension": ".py",
   "mimetype": "text/x-python",
   "name": "python",
   "nbconvert_exporter": "python",
   "pygments_lexer": "ipython3",
   "version": "3.11.10"
  }
 },
 "nbformat": 4,
 "nbformat_minor": 2
}
